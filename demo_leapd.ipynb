{
 "cells": [
  {
   "cell_type": "markdown",
   "id": "466d732e",
   "metadata": {},
   "source": [
    "# LEAPD Demo (Synthetic)\n",
    "\n",
    "This notebook creates a tiny synthetic EEG-like dataset, saves it to `.mat`, runs a minimal train/test using the Python pipeline, and shows ROC / channel heatmap."
   ]
  },
  {
   "cell_type": "code",
   "execution_count": null,
   "id": "a6f835b1",
   "metadata": {},
   "outputs": [],
   "source": [
    "import sys, os, numpy as np\n",
    "sys.path.append('src')\n",
    "from leapd import load_data, build_hyperplanes, compute_leapd_scores\n",
    "from leapd import evaluate_classification, plot_roc_curve, plot_channel_heatmap\n",
    "from scipy.io import savemat\n",
    "\n",
    "# --- 1) Generate synthetic dataset ---\n",
    "np.random.seed(0)\n",
    "Fs = 500\n",
    "n_sub_g1, n_sub_g2 = 8, 8\n",
    "n_ch = 2\n",
    "def synth_signal(n=2000, ar=[0.9, -0.3]):\n",
    "    # AR(2): x[t] = ar1*x[t-1] + ar2*x[t-2] + noise\n",
    "    x = np.zeros(n)\n",
    "    noise = np.random.randn(n)*0.5\n",
    "    for t in range(2, n):\n",
    "        x[t] = ar[0]*x[t-1] + ar[1]*x[t-2] + noise[t]\n",
    "    return x\n",
    "\n",
    "# group1 has slightly different AR than group2\n",
    "EEG = []\n",
    "for ch in range(n_ch):\n",
    "    g1 = [synth_signal(ar=[0.85, -0.25]) for _ in range(n_sub_g1)]\n",
    "    g2 = [synth_signal(ar=[0.75, -0.15]) for _ in range(n_sub_g2)]\n",
    "    EEG.append([g1, g2])\n",
    "Channel_location = [f'CH{c+1}' for c in range(n_ch)]\n",
    "Filenames = type('F', (), {})()\n",
    "Filenames.group1 = np.array([f'S{c+1}' for c in range(n_sub_g1)], dtype=object)\n",
    "Filenames.group2 = np.array([f'S{c+1+n_sub_g1}' for c in range(n_sub_g2)], dtype=object)\n",
    "\n",
    "mat_path = 'data/EEG_synth.mat'\n",
    "os.makedirs('data', exist_ok=True)\n",
    "savemat(mat_path, {'EEG': np.array(EEG, dtype=object), 'Channel_location': np.array(Channel_location, dtype=object), 'Filenames': Filenames}, do_compression=True)\n",
    "mat_path"
   ]
  },
  {
   "cell_type": "code",
   "execution_count": null,
   "id": "37d6e799",
   "metadata": {},
   "outputs": [],
   "source": [
    "# --- 2) Quick in-memory check of loader shapes ---\n",
    "from leapd import load_data\n",
    "DataMap, ChLoc, SubjectIDs, GroupNames = load_data('data/EEG_synth.mat', [], [])\n",
    "len(DataMap), ChLoc, list(SubjectIDs.keys())[:2]"
   ]
  },
  {
   "cell_type": "code",
   "execution_count": null,
   "id": "6aea6a44",
   "metadata": {},
   "outputs": [],
   "source": [
    "# --- 3) Minimal LEAPD computation on one channel: scores + ROC ---\n",
    "from leapd import filter_data\n",
    "from leapd.signal import compute_lpc_burg\n",
    "ch = list(DataMap.keys())[0]\n",
    "chData = DataMap[ch]\n",
    "AllData = chData['group1'] + chData['group2']\n",
    "labels = np.r_[np.ones(len(chData['group1'])), np.zeros(len(chData['group2']))]\n",
    "\n",
    "Filt = np.array([[0, 0.5, 0], [20, np.inf, 0]], dtype=float)\n",
    "Xf = filter_data(AllData, Filt, Fs)\n",
    "order = 8; dim = 3\n",
    "LPC_all = np.vstack([compute_lpc_burg(x, order)[None, :] for x in Xf])\n",
    "n1 = len(chData['group1'])\n",
    "P0, m0 = build_hyperplanes(LPC_all[n1:, :], dim)\n",
    "P1, m1 = build_hyperplanes(LPC_all[:n1, :], dim)\n",
    "scores = compute_leapd_scores(LPC_all, P0, m0, P1, m1)\n",
    "metrics = evaluate_classification(scores, labels)\n",
    "metrics"
   ]
  },
  {
   "cell_type": "code",
   "execution_count": null,
   "id": "b3101b76",
   "metadata": {},
   "outputs": [],
   "source": [
    "# --- 4) ROC plot ---\n",
    "plot_roc_curve(labels, scores, title=f'ROC {ch}', save_path='figures/roc_demo.png')\n",
    "print('Saved ROC to figures/roc_demo.png')"
   ]
  },
  {
   "cell_type": "code",
   "execution_count": null,
   "id": "d579518f",
   "metadata": {},
   "outputs": [],
   "source": [
    "# --- 5) Channel heatmap of single-channel ACC (dummy values) ---\n",
    "channels = list(DataMap.keys())\n",
    "vals = np.random.rand(len(channels))\n",
    "plot_channel_heatmap(channels, vals, title='Channel Metric Heatmap (Demo)', save_path='figures/heatmap_demo.png')\n",
    "print('Saved heatmap to figures/heatmap_demo.png')"
   ]
  }
 ],
 "metadata": {},
 "nbformat": 4,
 "nbformat_minor": 5
}
